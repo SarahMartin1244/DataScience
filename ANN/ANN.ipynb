{
  "nbformat": 4,
  "nbformat_minor": 0,
  "metadata": {
    "colab": {
      "provenance": []
    },
    "kernelspec": {
      "name": "python3",
      "display_name": "Python 3"
    },
    "language_info": {
      "name": "python"
    }
  },
  "cells": [
    {
      "cell_type": "markdown",
      "source": [
        "## Business Understanding\n",
        "- **Objective:** To gain a deeper understanding of how Artificial Neural Networks (ANNs) function and their effectiveness in classifying clothing items using the Fashion-MNIST dataset.\n",
        "- **Success Criteria:** To comprehend the fundamental concepts of ANNs, including layers, activations, and training processes, and to evaluate the ANN model's performance in classifying clothing items with a accuracy rate."
      ],
      "metadata": {
        "id": "Gx0lZqLhJ4mz"
      }
    },
    {
      "cell_type": "markdown",
      "source": [
        "## Data Understanding\n",
        "- **Data Collection:** Utilize the Fashion-MNIST dataset, consisting of grayscale images of clothing items, and their corresponding labels.\n",
        "- **Data Description:** The dataset comprises 60,000 training images and 10,000 test images, each of size 28x28 pixels, representing various clothing categories.\n",
        "- **Data Exploration:** Visualize sample images from the dataset to understand the characteristics of clothing items and their corresponding labels.\n"
      ],
      "metadata": {
        "id": "DmM3PUdMJa-K"
      }
    },
    {
      "cell_type": "markdown",
      "source": [
        "## Data Preparation\n",
        "- **Data Cleaning:** No cleaning required as the dataset is well-prepared and labeled.\n",
        "- **Feature Engineering:** Normalize pixel values to the range [0, 1] and reshape images to the required format for inputting into the ANN model.\n"
      ],
      "metadata": {
        "id": "qKlykD58KCXn"
      }
    },
    {
      "cell_type": "markdown",
      "source": [
        "## Modelling\n",
        "- **Model Selection:** I chose an ANN, suitable for image classification tasks, incorporating convolutional and dense layers.\n",
        "- **Model Training:** Train the ANN model using the training images and labels, and validate its performance on the test dataset.\n",
        "- **Model Evaluation:** Assess the trained model's performance metrics, including accuracy and loss, to understand its effectiveness in classifying clothing items.\n"
      ],
      "metadata": {
        "id": "hazb6QoyKLP1"
      }
    },
    {
      "cell_type": "markdown",
      "source": [
        "# Evaluation\n",
        "\n",
        "## Model Evaluation\n",
        "The trained ANN model was evaluated on the test dataset to assess its performance.\n",
        "\n",
        "- **Test Loss:** The test loss of the model was computed to be 0.3461.\n",
        "- **Test Accuracy:** The test accuracy of the model was calculated to be 0.8901, indicating that the model correctly classified approximately 89.01% of the test images.\n"
      ],
      "metadata": {
        "id": "_1l7Kp_tKNfC"
      }
    },
    {
      "cell_type": "code",
      "execution_count": 12,
      "metadata": {
        "id": "a3zB555OWB5j"
      },
      "outputs": [],
      "source": [
        "import tensorflow as tf\n",
        "from tensorflow.keras.datasets import fashion_mnist\n",
        "import numpy as np\n",
        "import matplotlib.pyplot as plt\n"
      ]
    },
    {
      "cell_type": "code",
      "source": [
        "(train_images, train_labels), (test_images, test_labels) = fashion_mnist.load_data()\n"
      ],
      "metadata": {
        "id": "eWkFfq4UWKiZ"
      },
      "execution_count": 13,
      "outputs": []
    },
    {
      "cell_type": "code",
      "source": [
        "train_images = train_images / 255.0\n",
        "test_images = test_images / 255.0\n",
        "\n",
        "# Reshape the flattened images back to their original shape\n",
        "train_images_flat = train_images.reshape(train_images.shape[0], 28, 28)\n",
        "test_images_flat = test_images.reshape(test_images.shape[0], 28, 28)\n"
      ],
      "metadata": {
        "id": "ZQK8mQwhWQvE"
      },
      "execution_count": 14,
      "outputs": []
    },
    {
      "cell_type": "code",
      "source": [
        "# Define the neural network model\n",
        "model = tf.keras.Sequential([\n",
        "    # Input layer (Flatten) to convert 2D image data into 1D\n",
        "    tf.keras.layers.Flatten(input_shape=(28, 28)),\n",
        "    # Fully connected (Dense) layer with 128 neurons using ReLU activation\n",
        "    tf.keras.layers.Dense(128, activation='relu'),\n",
        "    # Output layer with 10 neurons (one for each class) using softmax activation\n",
        "    tf.keras.layers.Dense(10, activation='softmax')\n",
        "])"
      ],
      "metadata": {
        "id": "yTnGkEEkWSzy"
      },
      "execution_count": 15,
      "outputs": []
    },
    {
      "cell_type": "code",
      "source": [
        "# Compile the model\n",
        "# Using Adam optimizer, sparse categorical crossentropy loss function, and accuracy metric\n",
        "model.compile(optimizer='adam',\n",
        "              loss='sparse_categorical_crossentropy',\n",
        "              metrics=['accuracy'])\n"
      ],
      "metadata": {
        "id": "lxZMNXdlWVKW"
      },
      "execution_count": 16,
      "outputs": []
    },
    {
      "cell_type": "code",
      "source": [
        "# Train the model\n",
        "# Using training images and labels, validating on test data, for 10 epochs\n",
        "history = model.fit(train_images_flat, train_labels, epochs=10, validation_data=(test_images_flat, test_labels))"
      ],
      "metadata": {
        "colab": {
          "base_uri": "https://localhost:8080/"
        },
        "id": "W7m7vKDeWXhm",
        "outputId": "2adbcc6f-3f78-4dac-e9be-51591e6d770e"
      },
      "execution_count": 17,
      "outputs": [
        {
          "output_type": "stream",
          "name": "stdout",
          "text": [
            "Epoch 1/10\n",
            "1875/1875 [==============================] - 12s 6ms/step - loss: 0.4969 - accuracy: 0.8252 - val_loss: 0.4419 - val_accuracy: 0.8443\n",
            "Epoch 2/10\n",
            "1875/1875 [==============================] - 6s 3ms/step - loss: 0.3734 - accuracy: 0.8654 - val_loss: 0.4229 - val_accuracy: 0.8457\n",
            "Epoch 3/10\n",
            "1875/1875 [==============================] - 8s 4ms/step - loss: 0.3397 - accuracy: 0.8759 - val_loss: 0.3687 - val_accuracy: 0.8676\n",
            "Epoch 4/10\n",
            "1875/1875 [==============================] - 6s 3ms/step - loss: 0.3126 - accuracy: 0.8859 - val_loss: 0.3938 - val_accuracy: 0.8587\n",
            "Epoch 5/10\n",
            "1875/1875 [==============================] - 8s 4ms/step - loss: 0.2934 - accuracy: 0.8924 - val_loss: 0.3508 - val_accuracy: 0.8719\n",
            "Epoch 6/10\n",
            "1875/1875 [==============================] - 6s 3ms/step - loss: 0.2793 - accuracy: 0.8969 - val_loss: 0.3449 - val_accuracy: 0.8795\n",
            "Epoch 7/10\n",
            "1875/1875 [==============================] - 8s 4ms/step - loss: 0.2703 - accuracy: 0.8999 - val_loss: 0.3436 - val_accuracy: 0.8783\n",
            "Epoch 8/10\n",
            "1875/1875 [==============================] - 6s 3ms/step - loss: 0.2593 - accuracy: 0.9037 - val_loss: 0.3535 - val_accuracy: 0.8745\n",
            "Epoch 9/10\n",
            "1875/1875 [==============================] - 8s 4ms/step - loss: 0.2488 - accuracy: 0.9075 - val_loss: 0.3229 - val_accuracy: 0.8860\n",
            "Epoch 10/10\n",
            "1875/1875 [==============================] - 7s 4ms/step - loss: 0.2407 - accuracy: 0.9101 - val_loss: 0.3311 - val_accuracy: 0.8834\n"
          ]
        }
      ]
    },
    {
      "cell_type": "code",
      "source": [
        "# Evaluate the model on the test set\n",
        "test_loss, test_acc = model.evaluate(test_images_flat, test_labels)\n",
        "print('Test accuracy:', test_acc)"
      ],
      "metadata": {
        "colab": {
          "base_uri": "https://localhost:8080/"
        },
        "id": "O31YrloLZAUN",
        "outputId": "45501177-a398-4484-8f87-e6434915b9b6"
      },
      "execution_count": 18,
      "outputs": [
        {
          "output_type": "stream",
          "name": "stdout",
          "text": [
            "313/313 [==============================] - 1s 2ms/step - loss: 0.3311 - accuracy: 0.8834\n",
            "Test accuracy: 0.883400022983551\n"
          ]
        }
      ]
    },
    {
      "cell_type": "code",
      "source": [
        "# Plot training history\n",
        "# Plotting accuracy and validation accuracy over epochs to visualize model performance\n",
        "plt.plot(history.history['accuracy'], label='accuracy')\n",
        "plt.plot(history.history['val_accuracy'], label='val_accuracy')\n",
        "plt.xlabel('Epoch')\n",
        "plt.ylabel('Accuracy')\n",
        "plt.ylim([0, 1])\n",
        "plt.legend(loc='lower right')\n",
        "plt.show()"
      ],
      "metadata": {
        "colab": {
          "base_uri": "https://localhost:8080/",
          "height": 455
        },
        "id": "WHdl_SNAZErI",
        "outputId": "0458c668-9871-4d98-815d-7f5fdcd4a4cc"
      },
      "execution_count": 19,
      "outputs": [
        {
          "output_type": "display_data",
          "data": {
            "text/plain": [
              "<Figure size 640x480 with 1 Axes>"
            ],
            "image/png": "[encoded data removed]"
          },
          "metadata": {}
        }
      ]
    },
    {
      "cell_type": "code",
      "source": [
        "\n",
        "# Evaluate the model on the test set\n",
        "test_loss, test_accuracy = model.evaluate(test_images_flat, test_labels)\n",
        "print('Test loss:', test_loss)\n",
        "print('Test accuracy:', test_accuracy)\n",
        "\n",
        "# Make predictions on the test data\n",
        "predictions = model.predict(test_images_flat)\n",
        "\n",
        "# Extract predicted labels\n",
        "predicted_labels = np.argmax(predictions, axis=1)\n",
        "\n",
        "# Display the first predicted label\n",
        "print(\"Predicted label for the first image:\", predicted_labels[0])\n",
        "\n",
        "\n",
        "actual_label = test_labels[0]\n",
        "\n",
        "# Compare with the prediction\n",
        "if actual_label == predicted_labels[0]:\n",
        "    print(\"Prediction is correct!\")\n",
        "else:\n",
        "    print(\"Prediction is incorrect.\")\n",
        "\n",
        "# Display the predicted labels for the first 10 images\n",
        "for i in range(10):\n",
        "    print(\"Predicted label for image\", i+1, \":\", predicted_labels[i])\n",
        "\n",
        "# Compare predictions with actual labels for the first 10 images\n",
        "for i in range(10):\n",
        "    if test_labels[i] == predicted_labels[i]:\n",
        "        print(\"Prediction for image\", i+1, \"is correct!\")\n",
        "    else:\n",
        "        print(\"Prediction for image\", i+1, \"is incorrect.\")\n"
      ],
      "metadata": {
        "colab": {
          "base_uri": "https://localhost:8080/"
        },
        "id": "8-1_Zr37OK42",
        "outputId": "3da667c6-7628-43f8-c1fb-94ce1a50fe84"
      },
      "execution_count": 21,
      "outputs": [
        {
          "output_type": "stream",
          "name": "stdout",
          "text": [
            "313/313 [==============================] - 1s 2ms/step - loss: 0.3461 - accuracy: 0.8901\n",
            "Test loss: 0.3460824489593506\n",
            "Test accuracy: 0.8901000022888184\n",
            "313/313 [==============================] - 1s 2ms/step\n",
            "Predicted label for the first image: 9\n",
            "Prediction is correct!\n",
            "Predicted label for image 1 : 9\n",
            "Predicted label for image 2 : 2\n",
            "Predicted label for image 3 : 1\n",
            "Predicted label for image 4 : 1\n",
            "Predicted label for image 5 : 6\n",
            "Predicted label for image 6 : 1\n",
            "Predicted label for image 7 : 4\n",
            "Predicted label for image 8 : 6\n",
            "Predicted label for image 9 : 5\n",
            "Predicted label for image 10 : 7\n",
            "Prediction for image 1 is correct!\n",
            "Prediction for image 2 is correct!\n",
            "Prediction for image 3 is correct!\n",
            "Prediction for image 4 is correct!\n",
            "Prediction for image 5 is correct!\n",
            "Prediction for image 6 is correct!\n",
            "Prediction for image 7 is correct!\n",
            "Prediction for image 8 is correct!\n",
            "Prediction for image 9 is correct!\n",
            "Prediction for image 10 is correct!\n"
          ]
        }
      ]
    }
  ]
}